{
 "cells": [
  {
   "cell_type": "markdown",
   "id": "0d337bf2-d018-4ee4-a4e8-c5558d35965f",
   "metadata": {},
   "source": [
    "# CPU vs. GPU Scikit-Learn Benchmarks\n",
    "\n",
    "## Instructions\n",
    "1. Please rename the \"YOUR_SYSTEM\" folder, that contains this notebook, into a system name of your choice.\n",
    "2. If you'd like to compare your system to mine, please do not change the parameter names and values when calling the benchmarking functions.\n",
    "3. If you'd like to compare 2 or 3 of your own systems and disregard the \"LEGION\" and \"ROG\" systems, please feel free to customize the parameter names (n_features, max_features, n_estimators).\n",
    "4. Please run all notebook cells up to: `6. GPU Benchmarking`\n",
    "5. Once you are done with the CPU benchmarks, and the results CSV file is saved in the current directory, you must restart the kernel, at: `6.1 Restart Kernel`.\n",
    "6. After you restart the kernel, make sure to load cuML Scikit-learn first `6.2. Load cuML Scikit-Learn GPU Extenssion`.\n",
    "7. Then, run:\n",
    "   - section 2. Imports\n",
    "   - section 3. Load Dataset\n",
    "   - section 4. Benchmarking Functions\n",
    "   - section 6.4. GPU Results and onward\n",
    "8. Once you have both a \"cpu_results.csv\" and a \"gpu_results.csv\", you can then navigate back to the \"speedtest directory\" and run the visualization notebook: speedtest_results_analysis.ipynb\n",
    "\n",
    "## Imports"
   ]
  },
  {
   "cell_type": "code",
   "execution_count": null,
   "id": "fe5fb94f-5e8f-4bd6-9265-f4d7b0a823bf",
   "metadata": {},
   "outputs": [],
   "source": [
    "from sklearn import datasets\n",
    "from sklearn.model_selection import train_test_split\n",
    "from sklearn.ensemble import RandomForestClassifier\n",
    "from sklearn.metrics import accuracy_score\n",
    "from sklearn.preprocessing import PolynomialFeatures\n",
    "import time\n",
    "import pandas as pd\n",
    "import subprocess\n",
    "from IPython import get_ipython\n",
    "import pynvml"
   ]
  },
  {
   "cell_type": "markdown",
   "id": "a3eada86-ea9d-451b-97d3-1dfacf408466",
   "metadata": {},
   "source": [
    "## Load a Dataset of Your Choice"
   ]
  },
  {
   "cell_type": "code",
   "execution_count": null,
   "id": "0db9452f-7acf-4496-824c-b202f50b1733",
   "metadata": {},
   "outputs": [],
   "source": [
    "covertype = datasets.fetch_covtype()\n",
    "x = covertype.data\n",
    "y = covertype.target\n",
    "\n",
    "x_train, x_test, y_train, y_test = train_test_split(\n",
    "    x, y, test_size=0.2, random_state=432\n",
    ")\n",
    "\n",
    "print(\"columns:\", x.shape[1])\n",
    "print(\"rows:\", x.shape[0])"
   ]
  },
  {
   "cell_type": "markdown",
   "id": "5d9542bf-8aac-48c4-9840-de8ba9df5e81",
   "metadata": {},
   "source": [
    "## Benchmarking Functions"
   ]
  },
  {
   "cell_type": "code",
   "execution_count": null,
   "id": "bd50a031-f65e-4e3a-abb2-a88660cdc9d2",
   "metadata": {},
   "outputs": [],
   "source": [
    "def benchmark_one(\n",
    "    x_train, x_test, y_train, y_test,\n",
    "    random_state=8, \n",
    "    n_jobs=-1, \n",
    "    n_estimators=100, \n",
    "    max_features=\"sqrt\", \n",
    "    poly=False\n",
    "):\n",
    "    \"\"\"\n",
    "    training benchmark function for CPU and GPU\n",
    "    \"\"\"\n",
    "    if poly == True:\n",
    "        poly = PolynomialFeatures()\n",
    "        x_train = poly.fit_transform(x_train)\n",
    "        x_test = poly.fit_transform(x_test)\n",
    "\n",
    "    # CPU 1540 features\n",
    "    model = RandomForestClassifier(\n",
    "        random_state=random_state,\n",
    "        n_jobs=n_jobs,\n",
    "        n_estimators=n_estimators,\n",
    "        max_features=max_features,     \n",
    "        )\n",
    "\n",
    "    start_time = time.time()\n",
    "    \n",
    "    model.fit(x_train, y_train)\n",
    "    y_pred = model.predict(x_test)\n",
    "    \n",
    "    accuracy = accuracy_score(y_test, y_pred)\n",
    "    n_features = x_train.shape[1]\n",
    "    end_time = time.time() - start_time\n",
    "\n",
    "    return [\n",
    "        n_estimators, \n",
    "        max_features, \n",
    "        random_state, \n",
    "        n_features, \n",
    "        accuracy, \n",
    "        end_time\n",
    "    ]\n",
    "\n",
    "def benchmark_many(\n",
    "    estimators_many, max_features_many, file_name\n",
    "):\n",
    "    \"\"\"\n",
    "    Hyperparameter tuning function for CPU and GPU\n",
    "    \"\"\"\n",
    "    df = pd.DataFrame(\n",
    "        columns=[\n",
    "            \"n_estimators\", \n",
    "            \"max_features\", \n",
    "            \"random_state\", \n",
    "            \"n_features\", \n",
    "            \"accuracy\", \n",
    "            \"time\"\n",
    "        ]\n",
    "    )\n",
    "\n",
    "    idx = 0\n",
    "    for e in estimators_many:\n",
    "        for m in max_features_many:\n",
    "            for p in [True, False]:\n",
    "                df.loc[idx] = benchmark_one(\n",
    "                    x_train, \n",
    "                    x_test, \n",
    "                    y_train, \n",
    "                    y_test, \n",
    "                    poly=p, \n",
    "                    n_estimators=e, \n",
    "                    max_features=m\n",
    "                )\n",
    "                print(\n",
    "                    idx, \n",
    "                    \"| poly:\", p, \n",
    "                    \"| max_features:\", m, \n",
    "                    \"| trees:\",e , \n",
    "                    \"| time:\", df.loc[idx][\"time\"]\n",
    "                )\n",
    "                idx += 1\n",
    "                \n",
    "                # cool down for 5 seconds\n",
    "                time.sleep(5)       \n",
    "                # save progress\n",
    "                df.to_csv(file_name)\n",
    "                \n",
    "    print(\"benchmarking complete, saved as\", file_name)\n",
    "    return df"
   ]
  },
  {
   "cell_type": "markdown",
   "id": "8b43fd84-7bbc-480a-aca1-e5d4d6b0499d",
   "metadata": {},
   "source": [
    "## CPU Benchmarking\n",
    "The following cell will find the name of the CPU and print its processing time over different parameter combinations."
   ]
  },
  {
   "cell_type": "code",
   "execution_count": null,
   "id": "535b3948-95e4-48da-8fe7-31494fe8ebb1",
   "metadata": {},
   "outputs": [],
   "source": [
    "device_make = subprocess.check_output(\"cat /proc/cpuinfo | grep 'model name' | head -n 1\", shell=True, text=True).split(\":\")[1].strip()\n",
    "print(\"wait while benchmarking CPU:\", device_make, \"...\")\n",
    "\n",
    "df = benchmark_many([100, 250, 500], [\"sqrt\", 1.0], \"cpu_results.csv\")"
   ]
  },
  {
   "cell_type": "markdown",
   "id": "e5daa521-9798-4b2d-a034-be1439b87c31",
   "metadata": {},
   "source": [
    "### CPU Results"
   ]
  },
  {
   "cell_type": "code",
   "execution_count": null,
   "id": "a38f223a-2cef-46ad-ba81-c156a68d8cb9",
   "metadata": {},
   "outputs": [],
   "source": [
    "df"
   ]
  },
  {
   "cell_type": "markdown",
   "id": "22d27c7a-bd26-4ee8-afa0-d9e1dafd8ddd",
   "metadata": {},
   "source": [
    "## GPU Benchmarking\n",
    "\n",
    "To perform GPU benchmarking, you must follow the instructions (detailed information in the instructions section above, in the first markdown cell)\n",
    "\n",
    "### Restart Kernel"
   ]
  },
  {
   "cell_type": "code",
   "execution_count": null,
   "id": "4ef6bbcb-69d0-4ef2-a4b7-8975eaa4e888",
   "metadata": {},
   "outputs": [],
   "source": [
    "get_ipython().kernel.do_shutdown(restart=True)"
   ]
  },
  {
   "cell_type": "markdown",
   "id": "d34c3252-bf10-4854-a123-2c030653c22d",
   "metadata": {},
   "source": [
    "### Load cuML Scikit-Learn GPU Extenssion"
   ]
  },
  {
   "cell_type": "code",
   "execution_count": null,
   "id": "4842728f-f1d1-4309-b739-37b97a2be9ce",
   "metadata": {},
   "outputs": [],
   "source": [
    "import warnings\n",
    "warnings.filterwarnings('ignore')\n",
    "\n",
    "%load_ext cuml.accel"
   ]
  },
  {
   "cell_type": "markdown",
   "id": "71fd5994-82c6-42b3-955a-02d50856b59b",
   "metadata": {},
   "source": [
    "### 4.2 Re-Run Sections 1-3\n",
    "\n",
    "Please make sure you:\n",
    "- import required modules\n",
    "- load dataset\n",
    "- define nescessary functions"
   ]
  },
  {
   "cell_type": "markdown",
   "id": "044398d7-782d-4fc5-b8da-75d4efb7623f",
   "metadata": {},
   "source": [
    "### GPU Results\n",
    "The following cell will find the name of the GPU and print its processing time over different parameter combinations."
   ]
  },
  {
   "cell_type": "code",
   "execution_count": null,
   "id": "aa4ff7c1-4c20-4c16-997a-1fc6e0c2e0c6",
   "metadata": {},
   "outputs": [],
   "source": [
    "pynvml.nvmlInit()\n",
    "handle = pynvml.nvmlDeviceGetHandleByIndex(0)\n",
    "device_make = pynvml.nvmlDeviceGetName(handle) \n",
    "pynvml.nvmlShutdown()\n",
    "\n",
    "print(\"wait while benchmarking GPU:\", device_make, \"...\")\n",
    "\n",
    "df = benchmark_many([100, 250, 500], [\"sqrt\", 1.0], \"gpu_results.csv\")\n",
    "df"
   ]
  }
 ],
 "metadata": {
  "kernelspec": {
   "display_name": "Python 3 (ipykernel)",
   "language": "python",
   "name": "python3"
  },
  "language_info": {
   "codemirror_mode": {
    "name": "ipython",
    "version": 3
   },
   "file_extension": ".py",
   "mimetype": "text/x-python",
   "name": "python",
   "nbconvert_exporter": "python",
   "pygments_lexer": "ipython3",
   "version": "3.12.9"
  }
 },
 "nbformat": 4,
 "nbformat_minor": 5
}
